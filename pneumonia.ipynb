{
  "metadata": {
    "kernelspec": {
      "language": "python",
      "display_name": "Python 3",
      "name": "python3"
    },
    "language_info": {
      "name": "python",
      "version": "3.10.13",
      "mimetype": "text/x-python",
      "codemirror_mode": {
        "name": "ipython",
        "version": 3
      },
      "pygments_lexer": "ipython3",
      "nbconvert_exporter": "python",
      "file_extension": ".py"
    },
    "kaggle": {
      "accelerator": "none",
      "dataSources": [
        {
          "sourceId": 36499,
          "databundleVersionId": 3618301,
          "sourceType": "competition"
        },
        {
          "sourceId": 9116506,
          "sourceType": "datasetVersion",
          "datasetId": 5502775
        }
      ],
      "dockerImageVersionId": 30746,
      "isInternetEnabled": false,
      "language": "python",
      "sourceType": "notebook",
      "isGpuEnabled": false
    },
    "colab": {
      "name": "notebook1149869cea",
      "provenance": [],
      "include_colab_link": true
    }
  },
  "nbformat_minor": 0,
  "nbformat": 4,
  "cells": [
    {
      "cell_type": "markdown",
      "metadata": {
        "id": "view-in-github",
        "colab_type": "text"
      },
      "source": [
        "<a href=\"https://colab.research.google.com/github/makhmudov-khondamir/Machine-Learning-Projects/blob/main/pneumonia.ipynb\" target=\"_parent\"><img src=\"https://colab.research.google.com/assets/colab-badge.svg\" alt=\"Open In Colab\"/></a>"
      ]
    },
    {
      "source": [
        "\n",
        "# IMPORTANT: RUN THIS CELL IN ORDER TO IMPORT YOUR KAGGLE DATA SOURCES\n",
        "# TO THE CORRECT LOCATION (/kaggle/input) IN YOUR NOTEBOOK,\n",
        "# THEN FEEL FREE TO DELETE THIS CELL.\n",
        "# NOTE: THIS NOTEBOOK ENVIRONMENT DIFFERS FROM KAGGLE'S PYTHON\n",
        "# ENVIRONMENT SO THERE MAY BE MISSING LIBRARIES USED BY YOUR\n",
        "# NOTEBOOK.\n",
        "\n",
        "import os\n",
        "import sys\n",
        "from tempfile import NamedTemporaryFile\n",
        "from urllib.request import urlopen\n",
        "from urllib.parse import unquote, urlparse\n",
        "from urllib.error import HTTPError\n",
        "from zipfile import ZipFile\n",
        "import tarfile\n",
        "import shutil\n",
        "\n",
        "CHUNK_SIZE = 40960\n",
        "DATA_SOURCE_MAPPING = 'pnevmoniya:https%3A%2F%2Fstorage.googleapis.com%2Fkaggle-competitions-data%2Fkaggle-v2%2F36499%2F3618301%2Fbundle%2Farchive.zip%3FX-Goog-Algorithm%3DGOOG4-RSA-SHA256%26X-Goog-Credential%3Dgcp-kaggle-com%2540kaggle-161607.iam.gserviceaccount.com%252F20240806%252Fauto%252Fstorage%252Fgoog4_request%26X-Goog-Date%3D20240806T113540Z%26X-Goog-Expires%3D259200%26X-Goog-SignedHeaders%3Dhost%26X-Goog-Signature%3D1cd5f85f95c28cfb53db1915bca42c894bed7cfe88f3ab545c06d3c8a5db9a2a1ecd739d4da22af0936564b99c26812ab311f2ac1ee3d78b43d1e8cd4a3934d10057c80bf3f1be6ad4d0e94b6f5557d1eef248b102e08b4e184f903bd336ccac2af127ffe5e5ec53af43a1c24ec96dab12ccd546b99e963b375284c1c59270030a2a7cd694f96efa7dd1efb33179d19cf594935af938240b08ea47f312261c0c43482ffef759446a7e75d3b0ca86cfb9195f0b93034e03f7768462ca06905ad41746d81208dc9cbd9ab585f2471bd91d29d394d1e6e8700a0b256d609dca3b7c29078ca08945a4bf7c181522e16f829d58fc4b434b521f3262136b3ceeff3fbf,resnet:https%3A%2F%2Fstorage.googleapis.com%2Fkaggle-data-sets%2F5502775%2F9116506%2Fbundle%2Farchive.zip%3FX-Goog-Algorithm%3DGOOG4-RSA-SHA256%26X-Goog-Credential%3Dgcp-kaggle-com%2540kaggle-161607.iam.gserviceaccount.com%252F20240806%252Fauto%252Fstorage%252Fgoog4_request%26X-Goog-Date%3D20240806T113540Z%26X-Goog-Expires%3D259200%26X-Goog-SignedHeaders%3Dhost%26X-Goog-Signature%3D43ca8dc2336f0897fd093ba616c393e41d90fd9a3cdce4556825c1ac0e44b0809734c9d9a4266bd38c8ba49f6e83d02f48e078617d6b0dab5fc7f13b15cfb3b64a5a3de0a42edcf182c9d39b0adffb40795a6bc1ca0213929837227e6cd9e96f1b7c41be82d2dd15d96dfc5cd68a626bd6ff94063dc360e6cfd772ad36e7d7cce23ffbf0ee94faf73b3f0feea76dd8ce4b9d3c04fce8698b568e135a6993d984e192988736c938b349f12e6c4aef9cfdd14a7f563ae4b7906ef5584aa4e4962c91619648208552556b1098f352aeeb20422c3d62d8dd1b5964e00e2f8b53b0800f9f4f48d8814de2adc6fe8c8b2a2a90b442ee1c9e8977f291e7c97cb2561f2a'\n",
        "\n",
        "KAGGLE_INPUT_PATH='/kaggle/input'\n",
        "KAGGLE_WORKING_PATH='/kaggle/working'\n",
        "KAGGLE_SYMLINK='kaggle'\n",
        "\n",
        "!umount /kaggle/input/ 2> /dev/null\n",
        "shutil.rmtree('/kaggle/input', ignore_errors=True)\n",
        "os.makedirs(KAGGLE_INPUT_PATH, 0o777, exist_ok=True)\n",
        "os.makedirs(KAGGLE_WORKING_PATH, 0o777, exist_ok=True)\n",
        "\n",
        "try:\n",
        "  os.symlink(KAGGLE_INPUT_PATH, os.path.join(\"..\", 'input'), target_is_directory=True)\n",
        "except FileExistsError:\n",
        "  pass\n",
        "try:\n",
        "  os.symlink(KAGGLE_WORKING_PATH, os.path.join(\"..\", 'working'), target_is_directory=True)\n",
        "except FileExistsError:\n",
        "  pass\n",
        "\n",
        "for data_source_mapping in DATA_SOURCE_MAPPING.split(','):\n",
        "    directory, download_url_encoded = data_source_mapping.split(':')\n",
        "    download_url = unquote(download_url_encoded)\n",
        "    filename = urlparse(download_url).path\n",
        "    destination_path = os.path.join(KAGGLE_INPUT_PATH, directory)\n",
        "    try:\n",
        "        with urlopen(download_url) as fileres, NamedTemporaryFile() as tfile:\n",
        "            total_length = fileres.headers['content-length']\n",
        "            print(f'Downloading {directory}, {total_length} bytes compressed')\n",
        "            dl = 0\n",
        "            data = fileres.read(CHUNK_SIZE)\n",
        "            while len(data) > 0:\n",
        "                dl += len(data)\n",
        "                tfile.write(data)\n",
        "                done = int(50 * dl / int(total_length))\n",
        "                sys.stdout.write(f\"\\r[{'=' * done}{' ' * (50-done)}] {dl} bytes downloaded\")\n",
        "                sys.stdout.flush()\n",
        "                data = fileres.read(CHUNK_SIZE)\n",
        "            if filename.endswith('.zip'):\n",
        "              with ZipFile(tfile) as zfile:\n",
        "                zfile.extractall(destination_path)\n",
        "            else:\n",
        "              with tarfile.open(tfile.name) as tarfile:\n",
        "                tarfile.extractall(destination_path)\n",
        "            print(f'\\nDownloaded and uncompressed: {directory}')\n",
        "    except HTTPError as e:\n",
        "        print(f'Failed to load (likely expired) {download_url} to path {destination_path}')\n",
        "        continue\n",
        "    except OSError as e:\n",
        "        print(f'Failed to load {download_url} to path {destination_path}')\n",
        "        continue\n",
        "\n",
        "print('Data source import complete.')\n"
      ],
      "metadata": {
        "id": "bkb_nhQyeJLM"
      },
      "cell_type": "code",
      "outputs": [],
      "execution_count": null
    },
    {
      "cell_type": "code",
      "source": [
        "# This Python 3 environment comes with many helpful analytics libraries installed\n",
        "# It is defined by the kaggle/python Docker image: https://github.com/kaggle/docker-python\n",
        "# For example, here's several helpful packages to load\n",
        "\n",
        "import numpy as np # linear algebra\n",
        "import pandas as pd # data processing, CSV file I/O (e.g. pd.read_csv)\n",
        "\n",
        "# Input data files are available in the read-only \"../input/\" directory\n",
        "# For example, running this (by clicking run or pressing Shift+Enter) will list all files under the input directory\n",
        "\n",
        "import os\n",
        "for dirname, _, filenames in os.walk('/kaggle/input'):\n",
        "    for filename in filenames:\n",
        "        print(os.path.join(dirname, filename))\n",
        "\n",
        "# You can write up to 20GB to the current directory (/kaggle/working/) that gets preserved as output when you create a version using \"Save & Run All\"\n",
        "# You can also write temporary files to /kaggle/temp/, but they won't be saved outside of the current session"
      ],
      "metadata": {
        "_uuid": "8f2839f25d086af736a60e9eeb907d3b93b6e0e5",
        "_cell_guid": "b1076dfc-b9ad-4769-8c92-a6c4dae69d19",
        "execution": {
          "iopub.status.busy": "2024-08-06T08:58:36.317537Z",
          "iopub.execute_input": "2024-08-06T08:58:36.318006Z",
          "iopub.status.idle": "2024-08-06T08:58:40.153243Z",
          "shell.execute_reply.started": "2024-08-06T08:58:36.317961Z",
          "shell.execute_reply": "2024-08-06T08:58:40.151877Z"
        },
        "trusted": true,
        "id": "yKERWFuIeJLZ"
      },
      "execution_count": null,
      "outputs": []
    },
    {
      "cell_type": "code",
      "source": [
        "import pandas as pd\n",
        "import fastai\n",
        "import torch\n",
        "from fastai.vision.all import *\n",
        "\n",
        "print(\"fastai version: \", fastai.__version__)"
      ],
      "metadata": {
        "execution": {
          "iopub.status.busy": "2024-08-06T08:58:48.519343Z",
          "iopub.execute_input": "2024-08-06T08:58:48.520417Z",
          "iopub.status.idle": "2024-08-06T08:58:57.577384Z",
          "shell.execute_reply.started": "2024-08-06T08:58:48.520374Z",
          "shell.execute_reply": "2024-08-06T08:58:57.575906Z"
        },
        "trusted": true,
        "id": "BizPXzE_eJLb"
      },
      "execution_count": null,
      "outputs": []
    },
    {
      "cell_type": "code",
      "source": [
        "path = Path('/kaggle/input/pnevmoniya/train')\n",
        "path.ls()"
      ],
      "metadata": {
        "trusted": true,
        "id": "Ea5rlJCPeJLc"
      },
      "execution_count": null,
      "outputs": []
    },
    {
      "cell_type": "code",
      "source": [
        "p_datablock = DataBlock(\n",
        "    blocks=(ImageBlock, CategoryBlock),\n",
        "    get_items=get_image_files,\n",
        "    get_y=parent_label,\n",
        "    splitter = RandomSplitter(seed=42),\n",
        "    item_tfms=Resize(224)\n",
        ")\n",
        "\n",
        "df = p_datablock.dataloaders(path)\n",
        "df.show_batch()"
      ],
      "metadata": {
        "trusted": true,
        "id": "M6HbO_kMeJLe"
      },
      "execution_count": null,
      "outputs": []
    },
    {
      "cell_type": "code",
      "source": [
        "from fastai.vision.all import *\n",
        "import torch\n",
        "\n",
        "# Define the path to your data\n",
        "path = Path('/kaggle/input/pnevmoniya/train')\n",
        "\n",
        "# Create the DataBlock\n",
        "p_datablock = DataBlock(\n",
        "    blocks=(ImageBlock, CategoryBlock),\n",
        "    get_items=get_image_files,\n",
        "    get_y=parent_label,\n",
        "    splitter=RandomSplitter(seed=42),\n",
        "    item_tfms=Resize(224)\n",
        ")\n",
        "\n",
        "# Create DataLoaders\n",
        "dls = p_datablock.dataloaders(path)\n",
        "\n",
        "# Define the path to the manually uploaded weights\n",
        "weights_path = '/kaggle/input/resnet/resnet34-b627a593.pth'  # Update this path with your exact file path\n",
        "\n",
        "# Define a custom function to load the model with specific weights\n",
        "def custom_resnet34(weights_path):\n",
        "    model = resnet34(pretrained=False)  # Do not use pretrained=True\n",
        "    # Load weights from the file\n",
        "    model.load_state_dict(torch.load(weights_path))\n",
        "    return model\n",
        "\n",
        "# Create a Learner with the custom model\n",
        "learn = Learner(dls, custom_resnet34(weights_path), metrics=accuracy)\n",
        "\n",
        "# Fine-tune the model\n",
        "learn.fine_tune(3)\n"
      ],
      "metadata": {
        "execution": {
          "iopub.status.busy": "2024-08-06T09:26:03.098341Z",
          "iopub.execute_input": "2024-08-06T09:26:03.098771Z",
          "iopub.status.idle": "2024-08-06T10:31:15.243773Z",
          "shell.execute_reply.started": "2024-08-06T09:26:03.09874Z",
          "shell.execute_reply": "2024-08-06T10:31:15.242558Z"
        },
        "trusted": true,
        "id": "MKBzRZCaeJLf"
      },
      "execution_count": null,
      "outputs": []
    },
    {
      "cell_type": "code",
      "source": [
        "test_path = Path('/kaggle/input/pnevmoniya/test')\n",
        "test_path.ls()"
      ],
      "metadata": {
        "execution": {
          "iopub.status.busy": "2024-08-06T10:58:02.318156Z",
          "iopub.execute_input": "2024-08-06T10:58:02.322238Z",
          "iopub.status.idle": "2024-08-06T10:58:02.354627Z",
          "shell.execute_reply.started": "2024-08-06T10:58:02.322106Z",
          "shell.execute_reply": "2024-08-06T10:58:02.35309Z"
        },
        "trusted": true,
        "id": "fpXGYOdMeJLg"
      },
      "execution_count": null,
      "outputs": []
    },
    {
      "cell_type": "markdown",
      "source": [
        "# **Testing**"
      ],
      "metadata": {
        "id": "rPOFypr1eJLh"
      }
    },
    {
      "cell_type": "code",
      "source": [
        "sol = pd.read_csv('/kaggle/input/pnevmoniya/sample_solution.csv')\n",
        "sol.head()"
      ],
      "metadata": {
        "execution": {
          "iopub.status.busy": "2024-08-06T11:07:45.615018Z",
          "iopub.execute_input": "2024-08-06T11:07:45.617188Z",
          "iopub.status.idle": "2024-08-06T11:07:45.684483Z",
          "shell.execute_reply.started": "2024-08-06T11:07:45.617115Z",
          "shell.execute_reply": "2024-08-06T11:07:45.683194Z"
        },
        "trusted": true,
        "id": "PJV0SuTmeJLn"
      },
      "execution_count": null,
      "outputs": []
    },
    {
      "cell_type": "code",
      "source": [
        "def check(img):\n",
        "    \"\"\"\n",
        "    Predict if the image is normal or pneumonia.\n",
        "    \"\"\"\n",
        "    pred_class, _, _ = learn.predict(img)\n",
        "    return 0 if pred_class == \"NORMAL\" else 1\n",
        "\n",
        "# Function to get predictions for a set of images\n",
        "def get_predicts(path, ids):\n",
        "    results = []\n",
        "    for id in ids:\n",
        "        img = PILImage.create(path/str(id))\n",
        "        res = check(img)\n",
        "        results.append(res)\n",
        "    return results"
      ],
      "metadata": {
        "execution": {
          "iopub.status.busy": "2024-08-06T11:05:48.634936Z",
          "iopub.execute_input": "2024-08-06T11:05:48.635482Z",
          "iopub.status.idle": "2024-08-06T11:05:48.643491Z",
          "shell.execute_reply.started": "2024-08-06T11:05:48.635435Z",
          "shell.execute_reply": "2024-08-06T11:05:48.642199Z"
        },
        "trusted": true,
        "id": "-sHjzdbeeJLn"
      },
      "execution_count": null,
      "outputs": []
    },
    {
      "cell_type": "code",
      "source": [
        "sol[\"labels\"] = get_predicts(test_path, sol[\"id\"])\n",
        "sol.to_csv(\"predictionn.csv\", index=False)\n",
        "sol.head()"
      ],
      "metadata": {
        "execution": {
          "iopub.status.busy": "2024-08-06T11:07:50.189597Z",
          "iopub.execute_input": "2024-08-06T11:07:50.190091Z",
          "iopub.status.idle": "2024-08-06T11:09:28.220417Z",
          "shell.execute_reply.started": "2024-08-06T11:07:50.190049Z",
          "shell.execute_reply": "2024-08-06T11:09:28.218876Z"
        },
        "trusted": true,
        "id": "yqesESSneJLo"
      },
      "execution_count": null,
      "outputs": []
    }
  ]
}