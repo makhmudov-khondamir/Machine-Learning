{
  "nbformat": 4,
  "nbformat_minor": 0,
  "metadata": {
    "colab": {
      "provenance": [],
      "authorship_tag": "ABX9TyPuBvBT8eHE204DCaF8MCl+",
      "include_colab_link": true
    },
    "kernelspec": {
      "name": "python3",
      "display_name": "Python 3"
    },
    "language_info": {
      "name": "python"
    }
  },
  "cells": [
    {
      "cell_type": "markdown",
      "metadata": {
        "id": "view-in-github",
        "colab_type": "text"
      },
      "source": [
        "<a href=\"https://colab.research.google.com/github/makhmudov-khondamir/Machine-Learning/blob/main/Predicting%20Sales%20Based%20on%20Advertising%20Spend.ipynb\" target=\"_parent\"><img src=\"https://colab.research.google.com/assets/colab-badge.svg\" alt=\"Open In Colab\"/></a>"
      ]
    },
    {
      "cell_type": "markdown",
      "source": [
        "##**Project: Predicting Sales Based on Advertising Spend**\n",
        "Problem Statement:\n",
        "A company wants to optimize its advertising budget to maximize sales. The company has historical data on sales and advertising spending across three channels: TV, Radio, and Newspaper. The goal is to build a predictive model that can forecast sales based on new advertising budgets and provide actionable insights on how to allocate resources effectively.\n",
        "\n",
        "**Dataset**:                                                                                    \n",
        "The dataset contains the following columns:\n",
        "\n",
        "-TV: Advertising spend on TV.\n",
        "\n",
        "-Radio: Advertising spend on Radio.\n",
        "\n",
        "-Newspaper: Advertising spend on Newspaper.\n",
        "\n",
        "-Sales: Total sales.\n",
        "\n",
        "**Objective**:\n",
        "\n",
        "-To build a linear regression model to predict sales based on advertising spends.\n",
        "\n",
        "-To use the model to compare predicted sales with current and new advertising budgets.\n",
        "\n",
        "-To make informed decisions on budget allocation."
      ],
      "metadata": {
        "id": "SeTt5qqT3vpa"
      }
    },
    {
      "cell_type": "code",
      "source": [
        "import pandas as pd\n",
        "import numpy as np\n",
        "import matplotlib.pyplot as plt\n",
        "import seaborn as sns\n",
        "%matplotlib inline\n",
        "from sklearn.model_selection import train_test_split\n",
        "from sklearn.metrics import mean_squared_error, mean_absolute_error\n",
        "from sklearn.linear_model import LinearRegression\n",
        "\n",
        "# Load the dataset\n",
        "df = pd.read_csv('https://raw.githubusercontent.com/anvarnarz/praktikum_datasets/main/reklama_sales.csv')\n",
        "print(\"First few rows of the dataset:\")\n",
        "print(df.head())\n",
        "\n",
        "# Split the data into features and target variable\n",
        "X = df.drop('Sales', axis=1)\n",
        "y = df['Sales']\n",
        "\n",
        "# Split the data into training and testing sets\n",
        "X_train, X_test, y_train, y_test = train_test_split(X, y, test_size=0.2, random_state=10)\n",
        "\n",
        "# Train the linear regression model\n",
        "LR_model = LinearRegression()\n",
        "LR_model.fit(X_train, y_train)\n",
        "\n",
        "# Make predictions on the test set\n",
        "predicted = LR_model.predict(X_test)\n",
        "\n",
        "# Calculate evaluation metrics\n",
        "mae = mean_absolute_error(y_test, predicted)\n",
        "rmse = np.sqrt(mean_squared_error(y_test, predicted))\n",
        "\n",
        "print(f\"Mean Absolute Error (MAE): {mae}\")\n",
        "print(f\"Root Mean Squared Error (RMSE): {rmse}\")\n",
        "\n",
        "# Example of decision-making with new advertising budgets\n",
        "current_budget = pd.DataFrame({'TV': [150], 'Radio': [20], 'Newspaper': [10]})\n",
        "new_budget = pd.DataFrame({'TV': [200], 'Radio': [50], 'Newspaper': [30]})\n",
        "\n",
        "current_predicted_sales = LR_model.predict(current_budget)[0]\n",
        "new_predicted_sales = LR_model.predict(new_budget)[0]\n",
        "\n",
        "print(f\"Predicted Sales with Current Budget: {current_predicted_sales}\")\n",
        "print(f\"Predicted Sales with New Budget: {new_predicted_sales}\")\n",
        "\n",
        "# Decision: Increase the budget if the increase in sales is substantial and cost-effective\n",
        "if new_predicted_sales > current_predicted_sales:\n",
        "    print(\"Decision: Increase the advertising budget to the new levels.\")\n",
        "else:\n",
        "    print(\"Decision: Keep the current advertising budget.\")\n"
      ],
      "metadata": {
        "colab": {
          "base_uri": "https://localhost:8080/"
        },
        "id": "VYfT74QW31Fa",
        "outputId": "eafc2bfd-98d5-4e29-bd86-c9af775d05dd"
      },
      "execution_count": 24,
      "outputs": [
        {
          "output_type": "stream",
          "name": "stdout",
          "text": [
            "First few rows of the dataset:\n",
            "      TV  Radio  Newspaper  Sales\n",
            "0  230.1   37.8       69.2   22.1\n",
            "1   44.5   39.3       45.1   10.4\n",
            "2   17.2   45.9       69.3   12.0\n",
            "3  151.5   41.3       58.5   16.5\n",
            "4  180.8   10.8       58.4   17.9\n",
            "Mean Absolute Error (MAE): 1.5748043429197127\n",
            "Root Mean Squared Error (RMSE): 2.10914093304191\n",
            "Predicted Sales with Current Budget: 14.986426352262642\n",
            "Predicted Sales with New Budget: 20.902775321286526\n",
            "Decision: Increase the advertising budget to the new levels.\n"
          ]
        }
      ]
    }
  ]
}
