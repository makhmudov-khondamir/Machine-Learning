{
  "nbformat": 4,
  "nbformat_minor": 0,
  "metadata": {
    "colab": {
      "provenance": [],
      "gpuType": "T4",
      "authorship_tag": "ABX9TyOWZpmKy9LvbdF+EH1tmbuI",
      "include_colab_link": true
    },
    "kernelspec": {
      "name": "python3",
      "display_name": "Python 3"
    },
    "language_info": {
      "name": "python"
    },
    "accelerator": "GPU"
  },
  "cells": [
    {
      "cell_type": "markdown",
      "metadata": {
        "id": "view-in-github",
        "colab_type": "text"
      },
      "source": [
        "<a href=\"https://colab.research.google.com/github/makhmudov-khondamir/Machine-Learning-Projects/blob/main/16.%20Tabular%20vs%20Scikit-Learn%3A%20Prediction%20project.ipynb\" target=\"_parent\"><img src=\"https://colab.research.google.com/assets/colab-badge.svg\" alt=\"Open In Colab\"/></a>"
      ]
    },
    {
      "cell_type": "markdown",
      "source": [
        "# **Comparative Analysis of Fastai (Tabular) and Scikit-Learn for Salary Prediction: From Data Preprocessing to Model Evaluation**\n",
        "\n",
        "The issue is how to effectively predict whether a salary is greater than or equal to 50,000 or less than 50,000 based on features using different machine learning frameworks. We will compare the use of Fastai (Tabular) and Scikit-Learn\n",
        "\n",
        "**Note!**\n",
        "For Fastai, GPU Environments is required.\n",
        "For Scikit-Learn, CPU Environments is enough"
      ],
      "metadata": {
        "id": "Uqk5baAVqig3"
      }
    },
    {
      "cell_type": "markdown",
      "source": [
        "## **Scikit_Learn**"
      ],
      "metadata": {
        "id": "xgY0_JOLu416"
      }
    },
    {
      "cell_type": "code",
      "source": [
        "from sklearn.ensemble import RandomForestClassifier\n",
        "from sklearn.model_selection import train_test_split\n",
        "from sklearn.preprocessing import OneHotEncoder, StandardScaler\n",
        "from sklearn.pipeline import Pipeline\n",
        "from sklearn.impute import SimpleImputer\n",
        "from sklearn.compose import ColumnTransformer\n",
        "from sklearn.metrics import accuracy_score\n",
        "import pandas as pd\n",
        "# import fastai\n",
        "# import torch\n",
        "# from fastai.tabular.all import *  ! Write these codes, if you are using a GPU environment\n",
        "\n",
        "\n",
        "# Load and preprocess data\n",
        "path = untar_data(URLs.ADULT_SAMPLE)\n",
        "df = pd.read_csv(path/'adult.csv')\n",
        "\n",
        "# Replace salary labels\n",
        "df['salary'].replace({'<50k': 0, '>=50k': 1}, inplace=True)\n",
        "\n",
        "# List of columns to apply the strip function\n",
        "cols_to_strip = ['workclass', 'education', 'marital-status', 'occupation', 'relationship', 'race', 'sex', 'native-country']\n",
        "\n",
        "# Apply strip function to each specified column\n",
        "for col in cols_to_strip:\n",
        "    df[col] = df[col].map(lambda x: x.strip())\n",
        "\n",
        "# Define categorical and numerical columns\n",
        "categorical = ['workclass', 'education', 'marital-status', 'occupation', 'relationship', 'race', 'sex', 'native-country']\n",
        "numerical = ['age', 'fnlwgt', 'education-num', 'capital-gain', 'capital-loss', 'hours-per-week']\n",
        "\n",
        "# Features and target\n",
        "x = df.drop('salary', axis=1)\n",
        "y = df['salary']\n",
        "\n",
        "# Split data\n",
        "x_train, x_test, y_train, y_test = train_test_split(x, y, test_size=0.2, random_state=42)\n",
        "\n",
        "# Define pipelines\n",
        "pipcat = Pipeline([\n",
        "    ('ohe', OneHotEncoder(handle_unknown='ignore', sparse=False))\n",
        "])\n",
        "\n",
        "pipnum = Pipeline([\n",
        "    ('imputer', SimpleImputer(strategy='median')),\n",
        "    ('std', StandardScaler())\n",
        "])\n",
        "\n",
        "# Combine into a full pipeline\n",
        "fullpipeline = ColumnTransformer([\n",
        "    ('cat', pipcat, categorical),\n",
        "    ('num', pipnum, numerical)\n",
        "])\n",
        "\n",
        "# Transform data\n",
        "x_train_transformed = fullpipeline.fit_transform(x_train)\n",
        "x_test_transformed = fullpipeline.transform(x_test)\n",
        "\n",
        "# Initialize and fit the RandomForest model\n",
        "forest = RandomForestClassifier()\n",
        "RF_model = forest.fit(x_train_transformed, y_train)\n",
        "\n",
        "# Make predictions on the test set\n",
        "y_pred = RF_model.predict(x_test_transformed)\n",
        "\n",
        "# Evaluate the model\n",
        "accuracy = accuracy_score(y_test, y_pred)\n",
        "print(\"Test set accuracy:\", accuracy)\n",
        "\n",
        "# Testing\n",
        "new=df.loc[[0]].drop('salary',axis=1)\n",
        "test=fullpipeline.transform(new)\n",
        "a=RF_model.predict(test)\n",
        "if a==0:\n",
        "    print('the salary is less than 50k')\n",
        "else:\n",
        "    print('the salary is more than or equal to 50k')"
      ],
      "metadata": {
        "id": "tx4SqRdQtTkZ"
      },
      "execution_count": null,
      "outputs": []
    },
    {
      "cell_type": "markdown",
      "source": [
        "## **Fastai, Tabular**"
      ],
      "metadata": {
        "id": "mjZbMHlIsMUI"
      }
    },
    {
      "cell_type": "code",
      "source": [
        "from fastai.tabular.all import *\n",
        "\n",
        "# Load and preprocess data\n",
        "path = untar_data(URLs.ADULT_SAMPLE)\n",
        "df = pd.read_csv(path/'adult.csv')\n",
        "\n",
        "# Replace salary labels\n",
        "df['salary'].replace({'<50k': 0, '>=50k': 1}, inplace=True)\n",
        "\n",
        "# Define categorical and numerical columns\n",
        "categorical = ['workclass', 'education', 'marital-status', 'occupation', 'relationship', 'race', 'sex', 'native-country']\n",
        "numerical = ['age', 'fnlwgt', 'education-num', 'capital-gain', 'capital-loss', 'hours-per-week']\n",
        "\n",
        "# Create DataLoaders\n",
        "dataloaders = TabularDataLoaders.from_df(df, path, y_names='salary', bs=64, skipinitialspace=False, cat_names=categorical, cont_names=numerical, procs=[Categorify, FillMissing, Normalize])\n",
        "\n",
        "# Define and train the model\n",
        "learn = tabular_learner(dataloaders, metrics=accuracy)\n",
        "learn.fit_one_cycle(5)\n",
        "# Testing\n",
        "row, pred, probs = learn.predict(df.iloc[4])\n",
        "pred.item(), probs"
      ],
      "metadata": {
        "id": "cB8x8kklsJrF"
      },
      "execution_count": null,
      "outputs": []
    }
  ]
}