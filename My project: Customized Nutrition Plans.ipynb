{
  "nbformat": 4,
  "nbformat_minor": 0,
  "metadata": {
    "colab": {
      "provenance": [],
      "authorship_tag": "ABX9TyMZ19ArJiJbrfatE4fWB8vk",
      "include_colab_link": true
    },
    "kernelspec": {
      "name": "python3",
      "display_name": "Python 3"
    },
    "language_info": {
      "name": "python"
    }
  },
  "cells": [
    {
      "cell_type": "markdown",
      "metadata": {
        "id": "view-in-github",
        "colab_type": "text"
      },
      "source": [
        "<a href=\"https://colab.research.google.com/github/makhmudov-khondamir/Machine-Learning/blob/main/My%20project%3A%20Customized%20Nutrition%20Plans.ipynb\" target=\"_parent\"><img src=\"https://colab.research.google.com/assets/colab-badge.svg\" alt=\"Open In Colab\"/></a>"
      ]
    },
    {
      "cell_type": "markdown",
      "source": [
        "\n",
        "#**Customized Nutrition Plans**\n",
        "### Issue\n",
        "\n",
        "In today's health-conscious world, many individuals seek personalized nutrition advice that caters to their unique health data, genetic information, and lifestyle choices. However, finding the right nutrition plan can be challenging due to the vast number of variables involved and the lack of tailored solutions. Generalized nutrition advice often fails to address individual needs, leading to suboptimal health outcomes. This project aims to bridge this gap by providing customized nutrition plans based on individual parameters.\n",
        "\n",
        "### Purpose\n",
        "\n",
        "The purpose of this project is to develop a service that offers personalized nutrition plans to users based on their specific health data, genetic information, and lifestyle choices. By leveraging machine learning techniques, specifically the K-Nearest Neighbors (KNN) algorithm, the system will recommend the most suitable nutrition plan from a pre-defined set of 50 plans. Each plan is designed to cater to different combinations of parameters such as height, weight, age, dietary preferences, and activity levels. The system will ensure that users receive nutrition advice that is closely aligned with their unique profiles, promoting better health and wellness outcomes.\n",
        "\n",
        "### Key Features\n",
        "\n",
        "- **Personalized Recommendations:** Tailored nutrition plans based on individual health and lifestyle parameters.\n",
        "- **Pre-defined Plans:** A comprehensive set of 50 nutrition plans designed to cover a wide range of user profiles.\n",
        "- **Machine Learning:** Utilization of K-Nearest Neighbors (KNN) algorithm to find the most similar nutrition plan based on user input.\n",
        "- **Scalability:** Ability to expand the number of pre-defined plans and incorporate more parameters as needed.\n",
        "\n",
        "### How It Works\n",
        "\n",
        "1. **Data Collection:** The system collects user data including height, weight, age, dietary preferences, and activity levels.\n",
        "2. **Feature Engineering:** Standardizes and processes the collected data for consistency.\n",
        "3. **Model Training:** Trains a K-Nearest Neighbors (KNN) model on the pre-defined set of 50 nutrition plans.\n",
        "4. **Recommendation:** The model recommends the most similar nutrition plan based on the user's input parameters.\n",
        "\n",
        "### Example Use Case\n",
        "\n",
        "- **User Input:** A user named Peter provides his parameters: height (165 cm), weight (68 kg), age (35 years), dietary preference (vegetarian), and activity level (high).\n",
        "- **Recommendation:** The system processes Peter's input and recommends the nutrition plan that best matches his profile from the pre-defined set of 50 plans.\n",
        "\n",
        "### Code\n",
        "\n",
        "The project is implemented in Python, utilizing libraries such as NumPy, Pandas, and Scikit-learn for data processing and machine learning.\n",
        "\n",
        "---"
      ],
      "metadata": {
        "id": "3VRIpBIM4L6o"
      }
    },
    {
      "cell_type": "code",
      "execution_count": 1,
      "metadata": {
        "colab": {
          "base_uri": "https://localhost:8080/"
        },
        "id": "TVFTmOD-10pt",
        "outputId": "cb065fa1-8465-4a99-b0e9-a6e7fd399c37"
      },
      "outputs": [
        {
          "output_type": "stream",
          "name": "stdout",
          "text": [
            "Recommended Nutrition Plan Index: 40\n",
            "Height               170\n",
            "Weight                75\n",
            "Age                   34\n",
            "DietaryPreference      1\n",
            "ActivityLevel          2\n",
            "Name: 40, dtype: int64\n"
          ]
        }
      ],
      "source": [
        "import numpy as np\n",
        "import pandas as pd\n",
        "from sklearn.preprocessing import StandardScaler\n",
        "from sklearn.neighbors import NearestNeighbors\n",
        "\n",
        "# Generate sample data for 50 nutrition plans\n",
        "np.random.seed(42)\n",
        "\n",
        "# Sample features: height (cm), weight (kg), age (years), dietary preference (0: non-vegetarian, 1: vegetarian), activity level (0: low, 1: medium, 2: high)\n",
        "nutrition_plans = np.random.randint(150, 200, size=(50, 1))  # height\n",
        "nutrition_plans = np.hstack((nutrition_plans, np.random.randint(50, 100, size=(50, 1))))  # weight\n",
        "nutrition_plans = np.hstack((nutrition_plans, np.random.randint(20, 60, size=(50, 1))))  # age\n",
        "nutrition_plans = np.hstack((nutrition_plans, np.random.randint(0, 2, size=(50, 1))))  # dietary preference\n",
        "nutrition_plans = np.hstack((nutrition_plans, np.random.randint(0, 3, size=(50, 1))))  # activity level\n",
        "\n",
        "# Convert to DataFrame for better readability\n",
        "nutrition_plans_df = pd.DataFrame(nutrition_plans, columns=['Height', 'Weight', 'Age', 'DietaryPreference', 'ActivityLevel'])\n",
        "\n",
        "# Standardize the parameters\n",
        "scaler = StandardScaler()\n",
        "nutrition_plans_scaled = scaler.fit_transform(nutrition_plans)\n",
        "\n",
        "# Fit the KNN model\n",
        "knn = NearestNeighbors(n_neighbors=1, metric='euclidean')\n",
        "knn.fit(nutrition_plans_scaled)\n",
        "\n",
        "def recommend_plan(user_params):\n",
        "    # Standardize user parameters\n",
        "    user_params_scaled = scaler.transform([user_params])\n",
        "\n",
        "    # Find the most similar plan\n",
        "    _, indices = knn.kneighbors(user_params_scaled)\n",
        "    plan_index = indices[0][0]\n",
        "\n",
        "    return plan_index\n",
        "\n",
        "# Example user input\n",
        "user_params = [165, 68, 35, 1, 2]\n",
        "recommended_plan_index = recommend_plan(user_params)\n",
        "\n",
        "print(f\"Recommended Nutrition Plan Index: {recommended_plan_index}\")\n",
        "print(nutrition_plans_df.iloc[recommended_plan_index])\n"
      ]
    },
    {
      "cell_type": "code",
      "source": [
        "df=pd.DataFrame(nutrition_plans, columns=['Height','Weight', 'Age', 'nutrition_plans','ActivityLevel'])"
      ],
      "metadata": {
        "id": "35r-0F9T11Vz"
      },
      "execution_count": 5,
      "outputs": []
    },
    {
      "cell_type": "code",
      "source": [
        "df.loc[40]"
      ],
      "metadata": {
        "colab": {
          "base_uri": "https://localhost:8080/"
        },
        "id": "suE2-dSQ1-ny",
        "outputId": "01c52a24-b0b3-42a0-a9a4-fe45302d0710"
      },
      "execution_count": 8,
      "outputs": [
        {
          "output_type": "execute_result",
          "data": {
            "text/plain": [
              "Height             170\n",
              "Weight              75\n",
              "Age                 34\n",
              "nutrition_plans      1\n",
              "ActivityLevel        2\n",
              "Name: 40, dtype: int64"
            ]
          },
          "metadata": {},
          "execution_count": 8
        }
      ]
    },
    {
      "cell_type": "code",
      "source": [],
      "metadata": {
        "id": "Gkleo0A_2aoL"
      },
      "execution_count": null,
      "outputs": []
    }
  ]
}